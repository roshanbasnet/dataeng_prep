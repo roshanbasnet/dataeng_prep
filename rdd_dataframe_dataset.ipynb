{
 "cells": [
  {
   "attachments": {},
   "cell_type": "markdown",
   "metadata": {},
   "source": [
    "### Diffrence between RDD and DataFrame and Dataset\n",
    "\n",
    "#### RDD Features\n",
    "\n",
    "* Distributed collection of data => Data is distributed across the cluster\n",
    "* Immutable in nature => once created cannot be changed  which is also called as Resilient as it is read only\n",
    "* Lazy evaluation => It will not be evaluated until an action is performed\n",
    "* Fault tolerant => if any node fails, it will automatically recover\n",
    "* Functional transformations => Transformation and Action\n",
    "* Data processing formats => structured, semi-structured, unstructured\n",
    "* Programming language => Python, Scala, Java, R"
   ]
  },
  {
   "attachments": {},
   "cell_type": "markdown",
   "metadata": {},
   "source": [
    "#### DataFrame Features\n",
    "\n",
    "* Distributed collection of rows Object\n",
    "* Data processing\n",
    "* Optimization using Catalyst Optimizer\n",
    "* Hive Compatible\n",
    "* Tungsten Engine which is a memory management system\n",
    "* Programming language => Python, Scala, Java, R"
   ]
  },
  {
   "attachments": {},
   "cell_type": "markdown",
   "metadata": {},
   "source": [
    "#### Dataset Features\n",
    "\n",
    "* Provides best of both RDD and DataFrame\n",
    "* Encoders\n",
    "* Programming language => Scala, Java\n",
    "* Type safety"
   ]
  },
  {
   "attachments": {},
   "cell_type": "markdown",
   "metadata": {},
   "source": [
    "### Disadvantages OF RDD and DataFrame and Dataset\n",
    "\n",
    "##### RDD\n",
    "* we have to optimize the code manually\n",
    "* RDD dont infer the schema automatically and we have to define the schema manually\n",
    "\n",
    "##### DataFrame\n",
    "* Does not support Compile time type safety because of which user is limited in case the structure of the data is not known\n",
    "\n",
    "##### Dataset\n",
    "* The main disadvantage of Dataset is that it is not available in Python and R. It is only available in Scala and Java. and  requires typecasting into Strings."
   ]
  },
  {
   "cell_type": "markdown",
   "metadata": {},
   "source": []
  }
 ],
 "metadata": {
  "language_info": {
   "name": "python"
  },
  "orig_nbformat": 4
 },
 "nbformat": 4,
 "nbformat_minor": 2
}
