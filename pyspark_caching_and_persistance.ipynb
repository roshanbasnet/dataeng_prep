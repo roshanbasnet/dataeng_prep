{
 "cells": [
  {
   "attachments": {},
   "cell_type": "markdown",
   "metadata": {},
   "source": [
    "### Spark Caching and Persistance\n",
    "Spark Caching can be used to pull data into memory for faster processing. It is usually used when you are going to use the same data multiple times and for small datasets.\n",
    "\n",
    "There are two ways to persist an RDD in Spark:\n",
    "\n",
    "1. rdd.persist(): This method marks the RDD as persistable and caches the data in memory or disk depending on the storage level specified. By default, the storage level is MEMORY_ONLY. You can also specify other storage levels such as MEMORY_ONLY_SER, MEMORY_AND_DISK, etc.\n",
    "\n",
    "2. rdd.cache(): This method is equivalent to rdd.persist(StorageLevel.MEMORY_ONLY). It caches the data in memory.\n",
    "\n",
    "Note that if an RDD is not persisted or cached, Spark will recompute the RDD every time it is used in a subsequent transformation or action, which can be time-consuming. Persisting or caching the RDD allows Spark to reuse the data across multiple operations and can significantly improve performance.\n",
    "\n",
    "### Storange Types:\n",
    "1. MEMORY_ONLY: The default storage level. It stores the data in JVM heap memory, which is fast but is limited by the total amount of memory available to the Spark application.\n",
    "2. MEMORY_AND_DISK: It stores the data in JVM heap memory, but spills over to disk when there is not enough space. This is useful when the data does not fit in memory, but there is enough space on disk to store the data.\n",
    "3. MEMORY_ONLY_SER: It stores the data in serialized format in JVM heap memory. Serialization is a process of converting an object into a stream of bytes to store the object or transmit it to memory, a database, or a file. It is generally used when the data structure is complex as it reduces the size of the data.\n",
    "4. MEMORY_AND_DISK_SER: It stores the data in serialized format in JVM heap memory, but spills over to disk when there is not enough space.\n",
    "5. DISK_ONLY: It stores the data only on disk and is generally used when the data does not fit in memory, but there is enough space on disk to store the data.\n",
    "6. OFF_HEAP: It stores the data in Tachyon or an external storage system. Tachyon is a memory-centric distributed storage system that enables reliable data sharing across cluster frameworks."
   ]
  },
  {
   "cell_type": "code",
   "execution_count": null,
   "metadata": {},
   "outputs": [],
   "source": []
  }
 ],
 "metadata": {
  "kernelspec": {
   "display_name": "pyspark_env",
   "language": "python",
   "name": "python3"
  },
  "language_info": {
   "name": "python",
   "version": "3.10.7"
  },
  "orig_nbformat": 4,
  "vscode": {
   "interpreter": {
    "hash": "3f6a623343236782b3104312a38d731a14c125bf838f4c82db90ae7c3338775f"
   }
  }
 },
 "nbformat": 4,
 "nbformat_minor": 2
}
