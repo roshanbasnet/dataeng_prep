{
 "cells": [
  {
   "cell_type": "code",
   "execution_count": 1,
   "metadata": {},
   "outputs": [],
   "source": [
    "from pyspark.sql import SparkSession\n",
    "spark = SparkSession.builder.appName('practise').getOrCreate()"
   ]
  },
  {
   "cell_type": "code",
   "execution_count": 31,
   "metadata": {},
   "outputs": [],
   "source": [
    "spark.stop()"
   ]
  },
  {
   "attachments": {},
   "cell_type": "markdown",
   "metadata": {},
   "source": [
    "### Handoling missing values"
   ]
  },
  {
   "cell_type": "code",
   "execution_count": 2,
   "metadata": {},
   "outputs": [
    {
     "data": {
      "text/html": [
       "\n",
       "            <div>\n",
       "                <p><b>SparkSession - in-memory</b></p>\n",
       "                \n",
       "        <div>\n",
       "            <p><b>SparkContext</b></p>\n",
       "\n",
       "            <p><a href=\"http://host.docker.internal:4042\">Spark UI</a></p>\n",
       "\n",
       "            <dl>\n",
       "              <dt>Version</dt>\n",
       "                <dd><code>v3.3.1</code></dd>\n",
       "              <dt>Master</dt>\n",
       "                <dd><code>local[*]</code></dd>\n",
       "              <dt>AppName</dt>\n",
       "                <dd><code>practise</code></dd>\n",
       "            </dl>\n",
       "        </div>\n",
       "        \n",
       "            </div>\n",
       "        "
      ],
      "text/plain": [
       "<pyspark.sql.session.SparkSession at 0x1b42f31edd0>"
      ]
     },
     "execution_count": 2,
     "metadata": {},
     "output_type": "execute_result"
    }
   ],
   "source": [
    "spark"
   ]
  },
  {
   "cell_type": "code",
   "execution_count": 2,
   "metadata": {},
   "outputs": [],
   "source": [
    "df_pyspark = spark.read.csv('test1.csv',header=True,inferSchema=True)"
   ]
  },
  {
   "cell_type": "code",
   "execution_count": 6,
   "metadata": {},
   "outputs": [
    {
     "name": "stdout",
     "output_type": "stream",
     "text": [
      "+-------+----+----------+-------+\n",
      "|   Name| Age|Experience|Sallary|\n",
      "+-------+----+----------+-------+\n",
      "| Roshan|  27|         3| 200000|\n",
      "|   Test|  26|         1|  12000|\n",
      "|  sfsfk|  33|         3|  43000|\n",
      "|sdfsfsd|   4|         4|  33333|\n",
      "|   Test|null|      null|   3333|\n",
      "|   null|   4|         4|   null|\n",
      "| Trettt|null|      null|   null|\n",
      "+-------+----+----------+-------+\n",
      "\n"
     ]
    }
   ],
   "source": [
    "df_pyspark.show()"
   ]
  },
  {
   "cell_type": "code",
   "execution_count": 7,
   "metadata": {},
   "outputs": [
    {
     "name": "stdout",
     "output_type": "stream",
     "text": [
      "root\n",
      " |-- Name: string (nullable = true)\n",
      " |-- Age: integer (nullable = true)\n",
      " |-- Experience: integer (nullable = true)\n",
      " |-- Sallary: integer (nullable = true)\n",
      "\n"
     ]
    }
   ],
   "source": [
    "df_pyspark.printSchema()"
   ]
  },
  {
   "cell_type": "code",
   "execution_count": 8,
   "metadata": {},
   "outputs": [
    {
     "name": "stdout",
     "output_type": "stream",
     "text": [
      "+-------+------+------------------+-----------------+-----------------+\n",
      "|summary|  Name|               Age|       Experience|          Sallary|\n",
      "+-------+------+------------------+-----------------+-----------------+\n",
      "|  count|     6|                 5|                5|                5|\n",
      "|   mean|  null|              18.8|              3.0|          58333.2|\n",
      "| stddev|  null|13.773162309360913|1.224744871391589|80779.61789152013|\n",
      "|    min|Roshan|                 4|                1|             3333|\n",
      "|    max| sfsfk|                33|                4|           200000|\n",
      "+-------+------+------------------+-----------------+-----------------+\n",
      "\n"
     ]
    }
   ],
   "source": [
    "df_pyspark.describe().show()"
   ]
  },
  {
   "cell_type": "code",
   "execution_count": 9,
   "metadata": {},
   "outputs": [
    {
     "name": "stdout",
     "output_type": "stream",
     "text": [
      "+-------+---+----------+-------+\n",
      "|   Name|Age|Experience|Sallary|\n",
      "+-------+---+----------+-------+\n",
      "| Roshan| 27|         3| 200000|\n",
      "|   Test| 26|         1|  12000|\n",
      "|  sfsfk| 33|         3|  43000|\n",
      "|sdfsfsd|  4|         4|  33333|\n",
      "+-------+---+----------+-------+\n",
      "\n"
     ]
    }
   ],
   "source": [
    "##Dropping rows with null values. na\n",
    "df_pyspark.na.drop().show()"
   ]
  },
  {
   "cell_type": "code",
   "execution_count": 11,
   "metadata": {},
   "outputs": [
    {
     "name": "stdout",
     "output_type": "stream",
     "text": [
      "+-------+----+----------+-------+\n",
      "|   Name| Age|Experience|Sallary|\n",
      "+-------+----+----------+-------+\n",
      "| Roshan|  27|         3| 200000|\n",
      "|   Test|  26|         1|  12000|\n",
      "|  sfsfk|  33|         3|  43000|\n",
      "|sdfsfsd|   4|         4|  33333|\n",
      "|   Test|null|      null|   3333|\n",
      "|   null|   4|         4|   null|\n",
      "| Trettt|null|      null|   null|\n",
      "+-------+----+----------+-------+\n",
      "\n"
     ]
    }
   ],
   "source": [
    "## any() will drop rows with any null values how = all will drop rows with all null values\n",
    "df_pyspark.na.drop(how='all').show()"
   ]
  },
  {
   "cell_type": "code",
   "execution_count": 12,
   "metadata": {},
   "outputs": [
    {
     "name": "stdout",
     "output_type": "stream",
     "text": [
      "+-------+---+----------+-------+\n",
      "|   Name|Age|Experience|Sallary|\n",
      "+-------+---+----------+-------+\n",
      "| Roshan| 27|         3| 200000|\n",
      "|   Test| 26|         1|  12000|\n",
      "|  sfsfk| 33|         3|  43000|\n",
      "|sdfsfsd|  4|         4|  33333|\n",
      "+-------+---+----------+-------+\n",
      "\n"
     ]
    }
   ],
   "source": [
    "#how = any will drop rows with any null values\n",
    "df_pyspark.na.drop(how='any').show()"
   ]
  },
  {
   "cell_type": "code",
   "execution_count": 17,
   "metadata": {},
   "outputs": [
    {
     "name": "stdout",
     "output_type": "stream",
     "text": [
      "+-------+----+----------+-------+\n",
      "|   Name| Age|Experience|Sallary|\n",
      "+-------+----+----------+-------+\n",
      "| Roshan|  27|         3| 200000|\n",
      "|   Test|  26|         1|  12000|\n",
      "|  sfsfk|  33|         3|  43000|\n",
      "|sdfsfsd|   4|         4|  33333|\n",
      "|   Test|null|      null|   3333|\n",
      "|   null|   4|         4|   null|\n",
      "+-------+----+----------+-------+\n",
      "\n"
     ]
    }
   ],
   "source": [
    "##thresh = 2 will drop rows with 2 or more null values\n",
    "df_pyspark.na.drop(how ='any', thresh=2).show()"
   ]
  },
  {
   "cell_type": "code",
   "execution_count": 25,
   "metadata": {},
   "outputs": [
    {
     "name": "stdout",
     "output_type": "stream",
     "text": [
      "+-------+---+----------+-------+\n",
      "|   Name|Age|Experience|Sallary|\n",
      "+-------+---+----------+-------+\n",
      "| Roshan| 27|         3| 200000|\n",
      "|   Test| 26|         1|  12000|\n",
      "|  sfsfk| 33|         3|  43000|\n",
      "|sdfsfsd|  4|         4|  33333|\n",
      "|   null|  4|         4|   null|\n",
      "+-------+---+----------+-------+\n",
      "\n"
     ]
    }
   ],
   "source": [
    "# subset=['Experience']  will drop rows with null values in the specified columns\n",
    "df_pyspark.na.drop(subset=['Experience']).show()"
   ]
  },
  {
   "cell_type": "code",
   "execution_count": 40,
   "metadata": {},
   "outputs": [
    {
     "name": "stdout",
     "output_type": "stream",
     "text": [
      "+-------+----+----------+-------+\n",
      "|   Name| Age|Experience|Sallary|\n",
      "+-------+----+----------+-------+\n",
      "| Roshan|  27|         3| 200000|\n",
      "|   Test|  26|         1|  12000|\n",
      "|  sfsfk|  33|         3|  43000|\n",
      "|sdfsfsd|   4|         4|  33333|\n",
      "|   Test|null|      null|   3333|\n",
      "|      0|   4|         4|   null|\n",
      "| Trettt|null|      null|   null|\n",
      "+-------+----+----------+-------+\n",
      "\n"
     ]
    }
   ],
   "source": [
    "#Filling missing values\n",
    "df_pyspark.na.fill('0').show()"
   ]
  },
  {
   "cell_type": "code",
   "execution_count": 38,
   "metadata": {},
   "outputs": [
    {
     "name": "stdout",
     "output_type": "stream",
     "text": [
      "+-------+----+----------+-------+\n",
      "|   Name| Age|Experience|Sallary|\n",
      "+-------+----+----------+-------+\n",
      "| Roshan|  27|         3| 200000|\n",
      "|   Test|  26|         1|  12000|\n",
      "|  sfsfk|  33|         3|  43000|\n",
      "|sdfsfsd|   4|         4|  33333|\n",
      "|   Test|null|      null|   3333|\n",
      "|   null|   4|         4|   null|\n",
      "| Trettt|null|      null|   null|\n",
      "+-------+----+----------+-------+\n",
      "\n"
     ]
    }
   ],
   "source": [
    "df_pyspark.show()"
   ]
  },
  {
   "cell_type": "code",
   "execution_count": 34,
   "metadata": {},
   "outputs": [],
   "source": [
    "# from pyspark.sql.functions import when\n",
    "\n",
    "# for col in df_pyspark.columns:\n",
    "#     df_pyspark = df_pyspark.withColumn(col, when(df_pyspark[col].isNull(), 'Missing').otherwise(df_pyspark[col]))\n"
   ]
  },
  {
   "cell_type": "code",
   "execution_count": 3,
   "metadata": {},
   "outputs": [
    {
     "name": "stdout",
     "output_type": "stream",
     "text": [
      "+-------+----+----------+-------+\n",
      "|   Name| Age|Experience|Sallary|\n",
      "+-------+----+----------+-------+\n",
      "| Roshan|  27|         3|  20000|\n",
      "|   Test|  26|         1|  12000|\n",
      "|  sfsfk|  33|         3|  43000|\n",
      "|sdfsfsd|   4|         4|  33333|\n",
      "|   Test|null|      null|   3333|\n",
      "|   null|   4|         4|   null|\n",
      "| Trettt|null|      null|   null|\n",
      "+-------+----+----------+-------+\n",
      "\n"
     ]
    }
   ],
   "source": [
    "df_pyspark.show()"
   ]
  },
  {
   "cell_type": "code",
   "execution_count": 4,
   "metadata": {},
   "outputs": [],
   "source": [
    "# imputing missing values\n",
    "from pyspark.ml.feature import Imputer\n",
    "\n",
    "imputer = Imputer(inputCols=['Age','Experience','Sallary'], outputCols=[\"{}_imputed\".format(c) for c in ['Age','Experience','Sallary']]).setStrategy(\"mean\")"
   ]
  },
  {
   "cell_type": "code",
   "execution_count": 5,
   "metadata": {},
   "outputs": [
    {
     "name": "stdout",
     "output_type": "stream",
     "text": [
      "+-------+----+----------+-------+-----------+------------------+---------------+\n",
      "|   Name| Age|Experience|Sallary|Age_imputed|Experience_imputed|Sallary_imputed|\n",
      "+-------+----+----------+-------+-----------+------------------+---------------+\n",
      "| Roshan|  27|         3|  20000|         27|                 3|          20000|\n",
      "|   Test|  26|         1|  12000|         26|                 1|          12000|\n",
      "|  sfsfk|  33|         3|  43000|         33|                 3|          43000|\n",
      "|sdfsfsd|   4|         4|  33333|          4|                 4|          33333|\n",
      "|   Test|null|      null|   3333|         18|                 3|           3333|\n",
      "|   null|   4|         4|   null|          4|                 4|          22333|\n",
      "| Trettt|null|      null|   null|         18|                 3|          22333|\n",
      "+-------+----+----------+-------+-----------+------------------+---------------+\n",
      "\n"
     ]
    }
   ],
   "source": [
    "# Add imputation cols to df\n",
    "imputer.fit(df_pyspark).transform(df_pyspark).show()"
   ]
  },
  {
   "attachments": {},
   "cell_type": "markdown",
   "metadata": {},
   "source": [
    "### Pyspark Dataframe Filter Operation\n",
    "*  &, |, ==\n",
    "* ~"
   ]
  },
  {
   "cell_type": "code",
   "execution_count": 6,
   "metadata": {},
   "outputs": [
    {
     "name": "stdout",
     "output_type": "stream",
     "text": [
      "+-------+----+----------+-------+\n",
      "|   Name| Age|Experience|Sallary|\n",
      "+-------+----+----------+-------+\n",
      "| Roshan|  27|         3|  20000|\n",
      "|   Test|  26|         1|  12000|\n",
      "|  sfsfk|  33|         3|  43000|\n",
      "|sdfsfsd|   4|         4|  33333|\n",
      "|   Test|null|      null|   3333|\n",
      "|   null|   4|         4|   null|\n",
      "| Trettt|null|      null|   null|\n",
      "+-------+----+----------+-------+\n",
      "\n"
     ]
    }
   ],
   "source": [
    "df_pyspark.show()"
   ]
  },
  {
   "cell_type": "code",
   "execution_count": 7,
   "metadata": {},
   "outputs": [
    {
     "name": "stdout",
     "output_type": "stream",
     "text": [
      "+-----+---+----------+-------+\n",
      "| Name|Age|Experience|Sallary|\n",
      "+-----+---+----------+-------+\n",
      "|sfsfk| 33|         3|  43000|\n",
      "+-----+---+----------+-------+\n",
      "\n"
     ]
    }
   ],
   "source": [
    "df_pyspark.filter(df_pyspark['Age'] > 30).show()"
   ]
  },
  {
   "cell_type": "code",
   "execution_count": 9,
   "metadata": {},
   "outputs": [
    {
     "name": "stdout",
     "output_type": "stream",
     "text": [
      "+-------+---+----------+-------+\n",
      "|   Name|Age|Experience|Sallary|\n",
      "+-------+---+----------+-------+\n",
      "| Roshan| 27|         3|  20000|\n",
      "|   Test| 26|         1|  12000|\n",
      "|  sfsfk| 33|         3|  43000|\n",
      "|sdfsfsd|  4|         4|  33333|\n",
      "+-------+---+----------+-------+\n",
      "\n"
     ]
    }
   ],
   "source": [
    "df_pyspark.filter(df_pyspark['Sallary'] >10000).show()"
   ]
  },
  {
   "cell_type": "code",
   "execution_count": 11,
   "metadata": {},
   "outputs": [
    {
     "name": "stdout",
     "output_type": "stream",
     "text": [
      "+-------+-------+\n",
      "|   Name|Sallary|\n",
      "+-------+-------+\n",
      "| Roshan|  20000|\n",
      "|   Test|  12000|\n",
      "|  sfsfk|  43000|\n",
      "|sdfsfsd|  33333|\n",
      "+-------+-------+\n",
      "\n"
     ]
    }
   ],
   "source": [
    "df_pyspark.filter(df_pyspark['Sallary']>10000).select(['Name','Sallary']).show()"
   ]
  },
  {
   "attachments": {},
   "cell_type": "markdown",
   "metadata": {},
   "source": [
    "### Pyspark Dataframe GroupBy and Aggregation Operation"
   ]
  },
  {
   "cell_type": "code",
   "execution_count": 12,
   "metadata": {},
   "outputs": [
    {
     "name": "stdout",
     "output_type": "stream",
     "text": [
      "+----+-----+\n",
      "| Age|count|\n",
      "+----+-----+\n",
      "|  27|    1|\n",
      "|  26|    1|\n",
      "|null|    2|\n",
      "|   4|    2|\n",
      "|  33|    1|\n",
      "+----+-----+\n",
      "\n"
     ]
    }
   ],
   "source": [
    "df_pyspark.groupBy('Age').count().show()"
   ]
  },
  {
   "cell_type": "code",
   "execution_count": 26,
   "metadata": {},
   "outputs": [
    {
     "name": "stdout",
     "output_type": "stream",
     "text": [
      "+----------+------------+\n",
      "|Experience|sum(Sallary)|\n",
      "+----------+------------+\n",
      "|      null|        3333|\n",
      "|         1|       12000|\n",
      "|         3|       63000|\n",
      "|         4|       33333|\n",
      "+----------+------------+\n",
      "\n"
     ]
    }
   ],
   "source": [
    "df_pyspark.groupBy('Experience').sum('Sallary').show()"
   ]
  },
  {
   "cell_type": "code",
   "execution_count": 27,
   "metadata": {},
   "outputs": [
    {
     "name": "stdout",
     "output_type": "stream",
     "text": [
      "+------------+\n",
      "|max(Sallary)|\n",
      "+------------+\n",
      "|       43000|\n",
      "+------------+\n",
      "\n"
     ]
    }
   ],
   "source": [
    "df_pyspark.agg({'Sallary':'max'}).show()"
   ]
  },
  {
   "cell_type": "code",
   "execution_count": 29,
   "metadata": {},
   "outputs": [
    {
     "name": "stdout",
     "output_type": "stream",
     "text": [
      "+------------+\n",
      "|sum(Sallary)|\n",
      "+------------+\n",
      "|      111666|\n",
      "+------------+\n",
      "\n"
     ]
    }
   ],
   "source": [
    "df_pyspark.agg({'Sallary':'sum'}).show()"
   ]
  },
  {
   "cell_type": "code",
   "execution_count": null,
   "metadata": {},
   "outputs": [],
   "source": []
  }
 ],
 "metadata": {
  "kernelspec": {
   "display_name": "pyspark_env",
   "language": "python",
   "name": "python3"
  },
  "language_info": {
   "codemirror_mode": {
    "name": "ipython",
    "version": 3
   },
   "file_extension": ".py",
   "mimetype": "text/x-python",
   "name": "python",
   "nbconvert_exporter": "python",
   "pygments_lexer": "ipython3",
   "version": "3.10.7"
  },
  "orig_nbformat": 4,
  "vscode": {
   "interpreter": {
    "hash": "3f6a623343236782b3104312a38d731a14c125bf838f4c82db90ae7c3338775f"
   }
  }
 },
 "nbformat": 4,
 "nbformat_minor": 2
}
